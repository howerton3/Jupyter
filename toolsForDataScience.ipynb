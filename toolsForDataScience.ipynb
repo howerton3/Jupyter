{
 "cells": [
  {
   "cell_type": "markdown",
   "id": "1ae21c42",
   "metadata": {},
   "source": [
    "\n",
    "# My Jupyter Notebook on IBM Watson Studio\n"
   ]
  },
  {
   "cell_type": "markdown",
   "id": "6f79cbf7",
   "metadata": {},
   "source": [
    "<p><strong>K. Howerton</strong><br>\n",
    "\n",
    "Data Scientist (unofficially)</p>"
   ]
  },
  {
   "cell_type": "markdown",
   "id": "88f8c376",
   "metadata": {},
   "source": [
    "<em>I am interested in data science as applied to cybersecurity.</em>"
   ]
  },
  {
   "cell_type": "markdown",
   "id": "beff89b3",
   "metadata": {},
   "source": [
    "### The following code tests the Fibonacci sequence recursively."
   ]
  },
  {
   "cell_type": "code",
   "execution_count": 5,
   "id": "e0b621b4",
   "metadata": {},
   "outputs": [
    {
     "name": "stdout",
     "output_type": "stream",
     "text": [
      "Fibonacci sequence:\n",
      "0\n",
      "1\n",
      "1\n",
      "2\n",
      "3\n",
      "5\n",
      "8\n",
      "13\n",
      "21\n",
      "34\n",
      "55\n",
      "89\n"
     ]
    }
   ],
   "source": [
    "def fib(n):\n",
    "    if n <= 1:\n",
    "        return n\n",
    "    else:\n",
    "        return(fib(n-1) + fib(n-2))\n",
    "\n",
    "num = 12\n",
    "\n",
    "def main():\n",
    "    print(\"Fibonacci sequence:\")\n",
    "    for i in range(num):\n",
    "        print(fib(i))\n",
    "\n",
    "main()"
   ]
  },
  {
   "cell_type": "markdown",
   "id": "682be6c4",
   "metadata": {},
   "source": [
    "> - This\n",
    ">> - is\n",
    ">>> - a\n",
    ">>>> - nested\n",
    ">>> - <s>block quote</s> blockquote\n",
    ">> - with\n",
    "> - bullets"
   ]
  },
  {
   "cell_type": "code",
   "execution_count": null,
   "id": "82358b88",
   "metadata": {},
   "outputs": [],
   "source": []
  }
 ],
 "metadata": {
  "kernelspec": {
   "display_name": "Python 3 (ipykernel)",
   "language": "python",
   "name": "python3"
  },
  "language_info": {
   "codemirror_mode": {
    "name": "ipython",
    "version": 3
   },
   "file_extension": ".py",
   "mimetype": "text/x-python",
   "name": "python",
   "nbconvert_exporter": "python",
   "pygments_lexer": "ipython3",
   "version": "3.9.7"
  }
 },
 "nbformat": 4,
 "nbformat_minor": 5
}
